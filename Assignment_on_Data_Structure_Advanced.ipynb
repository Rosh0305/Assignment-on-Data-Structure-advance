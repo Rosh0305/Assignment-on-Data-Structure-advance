{
  "nbformat": 4,
  "nbformat_minor": 0,
  "metadata": {
    "colab": {
      "provenance": []
    },
    "kernelspec": {
      "name": "python3",
      "display_name": "Python 3"
    },
    "language_info": {
      "name": "python"
    }
  },
  "cells": [
    {
      "cell_type": "markdown",
      "source": [
        "1)Write a code to reverse a string"
      ],
      "metadata": {
        "id": "X_j2-zJVD7Xu"
      }
    },
    {
      "cell_type": "code",
      "source": [
        "string =\"hello world\"\n",
        "string"
      ],
      "metadata": {
        "colab": {
          "base_uri": "https://localhost:8080/",
          "height": 36
        },
        "id": "lD0UMBiVD9fG",
        "outputId": "c530b09d-54ee-4d0f-e500-8b09d446c55e"
      },
      "execution_count": null,
      "outputs": [
        {
          "output_type": "execute_result",
          "data": {
            "text/plain": [
              "'hello world'"
            ],
            "application/vnd.google.colaboratory.intrinsic+json": {
              "type": "string"
            }
          },
          "metadata": {},
          "execution_count": 1
        }
      ]
    },
    {
      "cell_type": "code",
      "source": [
        "string[::-1]"
      ],
      "metadata": {
        "colab": {
          "base_uri": "https://localhost:8080/",
          "height": 36
        },
        "id": "Xs2gE9DzEHOj",
        "outputId": "0ededb6d-d102-4540-a86d-dbd12da7cf22"
      },
      "execution_count": null,
      "outputs": [
        {
          "output_type": "execute_result",
          "data": {
            "text/plain": [
              "'dlrow olleh'"
            ],
            "application/vnd.google.colaboratory.intrinsic+json": {
              "type": "string"
            }
          },
          "metadata": {},
          "execution_count": 2
        }
      ]
    },
    {
      "cell_type": "markdown",
      "source": [
        "2)Write a code to count the number of vowels in a string"
      ],
      "metadata": {
        "id": "4h3McMeZE_4O"
      }
    },
    {
      "cell_type": "markdown",
      "source": [
        "3)Write a code to check if a given string is a palindrome or not."
      ],
      "metadata": {
        "id": "L6xFKkPd1h8q"
      }
    },
    {
      "cell_type": "code",
      "source": [
        "a = \"madam\"\n",
        "if a == a[::-1]:\n",
        "    print(\"palindrome\")\n",
        "else:\n",
        "    print(\"not palindrome\")"
      ],
      "metadata": {
        "id": "RxMLXtO61vm5",
        "colab": {
          "base_uri": "https://localhost:8080/"
        },
        "outputId": "f4a47a89-ca35-4012-f0ec-46173602726b"
      },
      "execution_count": 3,
      "outputs": [
        {
          "output_type": "stream",
          "name": "stdout",
          "text": [
            "palindrome\n"
          ]
        }
      ]
    },
    {
      "cell_type": "markdown",
      "source": [
        " 4)Write a code to check if two given strings are anagrams of each other"
      ],
      "metadata": {
        "id": "n6efHcyM1wy2"
      }
    },
    {
      "cell_type": "code",
      "source": [
        "a = \"hello\"\n",
        "b = \"olleh\"\n",
        "if a == b[::-1]:\n",
        "    print(\"anagram\")\n",
        "else:\n",
        "    print(\"not anagram\")"
      ],
      "metadata": {
        "colab": {
          "base_uri": "https://localhost:8080/"
        },
        "id": "NKlEhIbNUEAG",
        "outputId": "475095eb-6849-4c47-e0b5-a660332cea16"
      },
      "execution_count": 2,
      "outputs": [
        {
          "output_type": "stream",
          "name": "stdout",
          "text": [
            "anagram\n"
          ]
        }
      ]
    },
    {
      "cell_type": "markdown",
      "source": [
        "5)Write a code to find all occurrences of a given substring within another string"
      ],
      "metadata": {
        "id": "1-Rj7Aax18Ue"
      }
    },
    {
      "cell_type": "code",
      "source": [
        "a =\"sunshine\"\n",
        "a.count(\"s\")"
      ],
      "metadata": {
        "colab": {
          "base_uri": "https://localhost:8080/"
        },
        "id": "NtIxYa0wEONe",
        "outputId": "ac1382eb-5859-4dcf-866a-92f1c2f52629"
      },
      "execution_count": 1,
      "outputs": [
        {
          "output_type": "execute_result",
          "data": {
            "text/plain": [
              "2"
            ]
          },
          "metadata": {},
          "execution_count": 1
        }
      ]
    },
    {
      "cell_type": "markdown",
      "source": [
        " 6)Write a code to perform basic string compression using the counts of repeated characters"
      ],
      "metadata": {
        "id": "IpVYanyT2EDo"
      }
    },
    {
      "cell_type": "code",
      "source": [
        "a = \"hello world\"\n",
        "a.count(\"l\")"
      ],
      "metadata": {
        "id": "jl6ElFlu1_GQ",
        "colab": {
          "base_uri": "https://localhost:8080/"
        },
        "outputId": "81b22d30-e0ea-4318-855d-4ef4cc83602d"
      },
      "execution_count": 24,
      "outputs": [
        {
          "output_type": "execute_result",
          "data": {
            "text/plain": [
              "3"
            ]
          },
          "metadata": {},
          "execution_count": 24
        }
      ]
    },
    {
      "cell_type": "markdown",
      "source": [
        "7)Write a code to determine if a string has all unique characters"
      ],
      "metadata": {
        "id": "1djpMrmH2IWo"
      }
    },
    {
      "cell_type": "code",
      "source": [
        "h = \"hello\"\n",
        "if h in string:\n",
        "    print(\"not unique\")\n",
        "else:\n",
        "    print(\"unique\")"
      ],
      "metadata": {
        "colab": {
          "base_uri": "https://localhost:8080/"
        },
        "id": "A-i4zLaZ2JyV",
        "outputId": "544cb066-36c9-41d1-b27c-fd2bb34fbeb9"
      },
      "execution_count": null,
      "outputs": [
        {
          "output_type": "stream",
          "name": "stdout",
          "text": [
            "not unique\n"
          ]
        }
      ]
    },
    {
      "cell_type": "markdown",
      "source": [
        "8)Write a code to convert a given string to uppercase or lowercase"
      ],
      "metadata": {
        "id": "k6t9V0RR2N9s"
      }
    },
    {
      "cell_type": "code",
      "source": [
        "text = \"Hello World\"\n",
        "text.upper()"
      ],
      "metadata": {
        "colab": {
          "base_uri": "https://localhost:8080/",
          "height": 36
        },
        "id": "LHuUmOYb5iFa",
        "outputId": "879df5ed-273e-4b9a-88a6-4004ab7726e3"
      },
      "execution_count": null,
      "outputs": [
        {
          "output_type": "execute_result",
          "data": {
            "text/plain": [
              "'HELLO WORLD'"
            ],
            "application/vnd.google.colaboratory.intrinsic+json": {
              "type": "string"
            }
          },
          "metadata": {},
          "execution_count": 3
        }
      ]
    },
    {
      "cell_type": "code",
      "source": [
        "text = \"Hello World\"\n",
        "text.lower()"
      ],
      "metadata": {
        "colab": {
          "base_uri": "https://localhost:8080/",
          "height": 36
        },
        "id": "ToMO2yYC5tQi",
        "outputId": "7e5f585a-4dfb-48df-eaa5-8194eaa53b83"
      },
      "execution_count": null,
      "outputs": [
        {
          "output_type": "execute_result",
          "data": {
            "text/plain": [
              "'hello world'"
            ],
            "application/vnd.google.colaboratory.intrinsic+json": {
              "type": "string"
            }
          },
          "metadata": {},
          "execution_count": 4
        }
      ]
    },
    {
      "cell_type": "markdown",
      "source": [
        " 9)Write a code to count the number of words in a string"
      ],
      "metadata": {
        "id": "kTQaQC3a2SW9"
      }
    },
    {
      "cell_type": "code",
      "source": [
        "a = \"Pwskills\"\n",
        "len(a)"
      ],
      "metadata": {
        "colab": {
          "base_uri": "https://localhost:8080/"
        },
        "id": "K5W2iwN72Tig",
        "outputId": "5835b709-d1f4-4231-91b8-e3e53edc5e32"
      },
      "execution_count": null,
      "outputs": [
        {
          "output_type": "execute_result",
          "data": {
            "text/plain": [
              "8"
            ]
          },
          "metadata": {},
          "execution_count": 36
        }
      ]
    },
    {
      "cell_type": "markdown",
      "source": [
        " 10)Write a code to concatenate two strings without using the + operator"
      ],
      "metadata": {
        "id": "FCSRgXoB2XZ0"
      }
    },
    {
      "cell_type": "code",
      "source": [
        "str1 = \"Hello\"\n",
        "str2 = \"World\"\n",
        "str1+str2"
      ],
      "metadata": {
        "colab": {
          "base_uri": "https://localhost:8080/",
          "height": 36
        },
        "id": "L7fBl-kd2Yj1",
        "outputId": "df081024-9d7f-4a10-efbe-363acc9ae94b"
      },
      "execution_count": null,
      "outputs": [
        {
          "output_type": "execute_result",
          "data": {
            "text/plain": [
              "'HelloWorld'"
            ],
            "application/vnd.google.colaboratory.intrinsic+json": {
              "type": "string"
            }
          },
          "metadata": {},
          "execution_count": 29
        }
      ]
    },
    {
      "cell_type": "markdown",
      "source": [
        "11)Write a code to remove all occurrences of a specific element from a list"
      ],
      "metadata": {
        "id": "Al7_3boR2dJ9"
      }
    },
    {
      "cell_type": "code",
      "source": [
        "a = [1,2,3,4,5]\n",
        "a.remove(1)\n",
        "a\n"
      ],
      "metadata": {
        "colab": {
          "base_uri": "https://localhost:8080/"
        },
        "id": "vx3dPb6f2eyB",
        "outputId": "2f3f8cf3-ac2a-477d-bc0b-ba895caacfb8"
      },
      "execution_count": null,
      "outputs": [
        {
          "output_type": "execute_result",
          "data": {
            "text/plain": [
              "[2, 3, 4, 5]"
            ]
          },
          "metadata": {},
          "execution_count": 28
        }
      ]
    },
    {
      "cell_type": "markdown",
      "source": [
        " 12)Implement a code to find the second largest number in a given list of integers"
      ],
      "metadata": {
        "id": "aJEHT0vy2nEj"
      }
    },
    {
      "cell_type": "code",
      "source": [
        "a = [20,10,30,50,40,60]\n",
        "a.sort()\n",
        "a[-2]"
      ],
      "metadata": {
        "colab": {
          "base_uri": "https://localhost:8080/"
        },
        "id": "YcWAC4PLHi8c",
        "outputId": "39947d34-9720-4674-a577-3c39ab0bd74c"
      },
      "execution_count": null,
      "outputs": [
        {
          "output_type": "execute_result",
          "data": {
            "text/plain": [
              "50"
            ]
          },
          "metadata": {},
          "execution_count": 22
        }
      ]
    },
    {
      "cell_type": "markdown",
      "source": [
        " 13)Create a code to count the occurrences of each element in a list and return a dictionary with elements as\n",
        "keys and their counts as values"
      ],
      "metadata": {
        "id": "6CNGZnyS2rcw"
      }
    },
    {
      "cell_type": "code",
      "source": [
        "a = [10,20,30,40,10,20,30,40,50]\n",
        "dict(zip(a,a))"
      ],
      "metadata": {
        "colab": {
          "base_uri": "https://localhost:8080/"
        },
        "id": "HvT6_gxiEBmo",
        "outputId": "01e96479-b8a3-4dfd-cce5-33bac1f45e04"
      },
      "execution_count": 23,
      "outputs": [
        {
          "output_type": "execute_result",
          "data": {
            "text/plain": [
              "{10: 10, 20: 20, 30: 30, 40: 40, 50: 50}"
            ]
          },
          "metadata": {},
          "execution_count": 23
        }
      ]
    },
    {
      "cell_type": "markdown",
      "source": [
        " 14)Write a code to reverse a list in-place without using any built-in reverse functions"
      ],
      "metadata": {
        "id": "RR6cS6Qy2yzK"
      }
    },
    {
      "cell_type": "code",
      "source": [
        "a = [10,20,30,40]\n",
        "a[::-1]"
      ],
      "metadata": {
        "colab": {
          "base_uri": "https://localhost:8080/"
        },
        "id": "TrYz1NRD20H8",
        "outputId": "fc410ace-48e8-4b99-ec07-a0cdac932b66"
      },
      "execution_count": null,
      "outputs": [
        {
          "output_type": "execute_result",
          "data": {
            "text/plain": [
              "[40, 30, 20, 10]"
            ]
          },
          "metadata": {},
          "execution_count": 31
        }
      ]
    },
    {
      "cell_type": "markdown",
      "source": [
        " 15)Implement a code to find and remove duplicates from a list while preserving the original order of\n",
        "elements"
      ],
      "metadata": {
        "id": "7r21i0qc251j"
      }
    },
    {
      "cell_type": "code",
      "source": [
        "a =[10,20,30,40,10,20,30,40,50]\n",
        "set(a)"
      ],
      "metadata": {
        "id": "dqrjT1kL27fl",
        "colab": {
          "base_uri": "https://localhost:8080/"
        },
        "outputId": "8b0a9359-9bae-4af7-dc80-67596b42ceaf"
      },
      "execution_count": 11,
      "outputs": [
        {
          "output_type": "execute_result",
          "data": {
            "text/plain": [
              "{10, 20, 30, 40, 50}"
            ]
          },
          "metadata": {},
          "execution_count": 11
        }
      ]
    },
    {
      "cell_type": "markdown",
      "source": [
        "\n",
        " 16)Create a code to check if a given list is sorted (either in ascending or descending order or not"
      ],
      "metadata": {
        "id": "67uAYPbJ2_Zw"
      }
    },
    {
      "cell_type": "code",
      "source": [
        "a = [1,3,4,5,6]\n",
        "if a == sorted(a):\n",
        "    print(\"sorted\")\n",
        "else:\n",
        "    print(\"not sorted\")"
      ],
      "metadata": {
        "colab": {
          "base_uri": "https://localhost:8080/"
        },
        "id": "e8u5S29p8Ln0",
        "outputId": "f4373845-cfaa-4db6-eb24-039c6e37efda"
      },
      "execution_count": 1,
      "outputs": [
        {
          "output_type": "stream",
          "name": "stdout",
          "text": [
            "sorted\n"
          ]
        }
      ]
    },
    {
      "cell_type": "markdown",
      "source": [
        " 17)Write a code to merge two sorted lists into a single sorted list"
      ],
      "metadata": {
        "id": "YOTkKfKd3GAy"
      }
    },
    {
      "cell_type": "code",
      "source": [
        "list1 = [1,2,3,4]\n",
        "list2 = [5,6,7,8]\n",
        "list1+list2"
      ],
      "metadata": {
        "colab": {
          "base_uri": "https://localhost:8080/"
        },
        "id": "73rL6n1X3HgC",
        "outputId": "9ee868b0-b816-48a5-eb68-dd112ee277b3"
      },
      "execution_count": null,
      "outputs": [
        {
          "output_type": "execute_result",
          "data": {
            "text/plain": [
              "[1, 2, 3, 4, 5, 6, 7, 8]"
            ]
          },
          "metadata": {},
          "execution_count": 19
        }
      ]
    },
    {
      "cell_type": "markdown",
      "source": [
        " 18)Implement a code to find the intersection of two given lists"
      ],
      "metadata": {
        "id": "FyH9CKeo3Kkd"
      }
    },
    {
      "cell_type": "code",
      "source": [
        "s1 = {1,2,3,4}\n",
        "s2 = {3,4,5,6}\n",
        "s1.intersection(s2)"
      ],
      "metadata": {
        "colab": {
          "base_uri": "https://localhost:8080/"
        },
        "id": "no1oeGPJ3Lve",
        "outputId": "ebed8118-8e21-447e-d454-0f3e7eebdce8"
      },
      "execution_count": null,
      "outputs": [
        {
          "output_type": "execute_result",
          "data": {
            "text/plain": [
              "{3, 4}"
            ]
          },
          "metadata": {},
          "execution_count": 18
        }
      ]
    },
    {
      "cell_type": "markdown",
      "source": [
        "19)Create a code to find the union of two lists without duplicates"
      ],
      "metadata": {
        "id": "7pe8T_y53P-h"
      }
    },
    {
      "cell_type": "code",
      "source": [
        "lis =[1,2,3,4,5]\n",
        "lis2 = [3,4,5,6,7]\n",
        "set(lis+lis2)"
      ],
      "metadata": {
        "id": "nLTqRH4O3WcY",
        "colab": {
          "base_uri": "https://localhost:8080/"
        },
        "outputId": "b69024d6-4c16-458f-8db1-47363b142676"
      },
      "execution_count": 2,
      "outputs": [
        {
          "output_type": "execute_result",
          "data": {
            "text/plain": [
              "{1, 2, 3, 4, 5, 6, 7}"
            ]
          },
          "metadata": {},
          "execution_count": 2
        }
      ]
    },
    {
      "cell_type": "markdown",
      "source": [
        " 20)Write a code to shuffle a given list randomly without using any built-in shuffle functions"
      ],
      "metadata": {
        "id": "TZH9srjh3a7K"
      }
    },
    {
      "cell_type": "code",
      "source": [
        "test = [6,5,6,1,2,3]\n",
        "import random\n",
        "random.shuffle(test)\n",
        "test"
      ],
      "metadata": {
        "colab": {
          "base_uri": "https://localhost:8080/"
        },
        "id": "Wdaf16rU9DHO",
        "outputId": "1e6f1262-4cad-498d-d9e9-1c474c17512f"
      },
      "execution_count": 3,
      "outputs": [
        {
          "output_type": "execute_result",
          "data": {
            "text/plain": [
              "[3, 6, 5, 1, 6, 2]"
            ]
          },
          "metadata": {},
          "execution_count": 3
        }
      ]
    },
    {
      "cell_type": "markdown",
      "source": [
        "21)Write a code that takes two tuples as input and returns a new tuple containing elements that are\n",
        "common to both input tuples"
      ],
      "metadata": {
        "id": "pKNI__GH3gDi"
      }
    },
    {
      "cell_type": "code",
      "source": [
        "tuple1= (1,2,3,4)\n",
        "tuple2= (3,4,5,6)\n",
        "set(tuple1).intersection(set(tuple2))"
      ],
      "metadata": {
        "id": "m3VZYxrR3hsG",
        "colab": {
          "base_uri": "https://localhost:8080/"
        },
        "outputId": "4ab515eb-4b1e-40c9-b58d-265299db5ae3"
      },
      "execution_count": 4,
      "outputs": [
        {
          "output_type": "execute_result",
          "data": {
            "text/plain": [
              "{3, 4}"
            ]
          },
          "metadata": {},
          "execution_count": 4
        }
      ]
    },
    {
      "cell_type": "markdown",
      "source": [
        "22) Create a code that prompts the user to enter two sets of integers separated by commas. Then, print the\n",
        "intersection of these two sets"
      ],
      "metadata": {
        "id": "xfEdhT913sNv"
      }
    },
    {
      "cell_type": "code",
      "source": [
        "a = [1,2,7,8]\n",
        "b = [3,4,5,8]\n",
        "set(a).intersection(set(b))"
      ],
      "metadata": {
        "id": "5-wljkXE3ugE",
        "colab": {
          "base_uri": "https://localhost:8080/"
        },
        "outputId": "5962efd4-07f3-45fa-9a14-f844fc14fc05"
      },
      "execution_count": 6,
      "outputs": [
        {
          "output_type": "execute_result",
          "data": {
            "text/plain": [
              "{8}"
            ]
          },
          "metadata": {},
          "execution_count": 6
        }
      ]
    },
    {
      "cell_type": "markdown",
      "source": [
        "23)Write a code to concatenate two tuples. The function should take two tuples as input and return a new\n",
        "tuple containing elements from both input tuples.\n"
      ],
      "metadata": {
        "id": "TiAapxl43xer"
      }
    },
    {
      "cell_type": "code",
      "source": [
        "tuple1 =(1,2,3)\n",
        "tuple2 = (4,5,6)\n",
        "tuple1+tuple2"
      ],
      "metadata": {
        "colab": {
          "base_uri": "https://localhost:8080/"
        },
        "id": "mGPzoCO932Jh",
        "outputId": "57ce7144-1f03-4812-da35-c00568d52729"
      },
      "execution_count": null,
      "outputs": [
        {
          "output_type": "execute_result",
          "data": {
            "text/plain": [
              "(1, 2, 3, 4, 5, 6)"
            ]
          },
          "metadata": {},
          "execution_count": 11
        }
      ]
    },
    {
      "cell_type": "markdown",
      "source": [
        "24)Develop a code that prompts the user to input two sets of strings. Then, print the elements that are\n",
        "present in the first set but not in the second set"
      ],
      "metadata": {
        "id": "sBM8QfE939mR"
      }
    },
    {
      "cell_type": "code",
      "source": [
        "a = [10,20,30,40]\n",
        "b = [30,40,50,60]\n",
        "set(a).difference(set(b))"
      ],
      "metadata": {
        "id": "7ylCUFHG3-8h",
        "colab": {
          "base_uri": "https://localhost:8080/"
        },
        "outputId": "41b04038-77c6-4531-bf1a-a4e2ca58a10e"
      },
      "execution_count": 7,
      "outputs": [
        {
          "output_type": "execute_result",
          "data": {
            "text/plain": [
              "{10, 20}"
            ]
          },
          "metadata": {},
          "execution_count": 7
        }
      ]
    },
    {
      "cell_type": "markdown",
      "source": [
        "25)Create a code that takes a tuple and two integers as input. The function should return a new tuple\n",
        "containing elements from the original tuple within the specified range of indices"
      ],
      "metadata": {
        "id": "psZqpfGA4Bee"
      }
    },
    {
      "cell_type": "code",
      "source": [
        "a =\"10,20,30,40\"\n",
        "a = tuple(int(x) for x in a.split(\",\"))\n",
        "a\n",
        "\n"
      ],
      "metadata": {
        "id": "6hxXD1UC4CuM",
        "colab": {
          "base_uri": "https://localhost:8080/"
        },
        "outputId": "c24f3401-4a61-4233-fe1c-f3da4ea6e640"
      },
      "execution_count": 9,
      "outputs": [
        {
          "output_type": "execute_result",
          "data": {
            "text/plain": [
              "(10, 20, 30, 40)"
            ]
          },
          "metadata": {},
          "execution_count": 9
        }
      ]
    },
    {
      "cell_type": "markdown",
      "source": [
        "26)Write a code that prompts the user to input two sets of characters. Then, print the union of these two sets"
      ],
      "metadata": {
        "id": "eIFes7iY4GVj"
      }
    },
    {
      "cell_type": "code",
      "source": [
        "string1 =\"hello world\"\n",
        "string2 =\"hello python\"\n",
        "set(string1).union(set(string2))"
      ],
      "metadata": {
        "id": "69jlSKqs4Hnk",
        "colab": {
          "base_uri": "https://localhost:8080/"
        },
        "outputId": "7b845035-9dd6-4cd8-b008-f877748c2e8a"
      },
      "execution_count": 12,
      "outputs": [
        {
          "output_type": "execute_result",
          "data": {
            "text/plain": [
              "{' ', 'd', 'e', 'h', 'l', 'n', 'o', 'p', 'r', 't', 'w', 'y'}"
            ]
          },
          "metadata": {},
          "execution_count": 12
        }
      ]
    },
    {
      "cell_type": "markdown",
      "source": [
        "27)Develop a code that takes a tuple of integers as input. The function should return the maximum and\n",
        "minimum values from the tuple using tuple unpacking"
      ],
      "metadata": {
        "id": "fb1iBX2L4MeM"
      }
    },
    {
      "cell_type": "code",
      "source": [
        "a = [15,12,12,10]\n",
        "print(max(a))\n",
        "print(min(a))"
      ],
      "metadata": {
        "id": "LnqnGssn4Nla",
        "colab": {
          "base_uri": "https://localhost:8080/"
        },
        "outputId": "58d4e5aa-396a-4455-f0d2-902394d56021"
      },
      "execution_count": 13,
      "outputs": [
        {
          "output_type": "stream",
          "name": "stdout",
          "text": [
            "15\n",
            "10\n"
          ]
        }
      ]
    },
    {
      "cell_type": "markdown",
      "source": [
        "28)Create a code that defines two sets of integers. Then, print the union, intersection, and difference of these\n",
        "two sets"
      ],
      "metadata": {
        "id": "A0jHl1fw4U1N"
      }
    },
    {
      "cell_type": "code",
      "source": [
        "a = [10,20]\n",
        "b = [20,30]\n",
        "print(set(a).union(set(b)))\n",
        "print(set(a).intersection(set(b)))\n",
        "print(set(a).difference(set(b)))"
      ],
      "metadata": {
        "id": "ahkcaAzV4WMv",
        "colab": {
          "base_uri": "https://localhost:8080/"
        },
        "outputId": "17b65aaf-f6a9-4e78-c254-7a9412967d97"
      },
      "execution_count": 14,
      "outputs": [
        {
          "output_type": "stream",
          "name": "stdout",
          "text": [
            "{10, 20, 30}\n",
            "{20}\n",
            "{10}\n"
          ]
        }
      ]
    },
    {
      "cell_type": "markdown",
      "source": [
        "29)Write a code that takes a tuple and an element as input. The function should return the count of\n",
        "occurrences of the given element in the tuple"
      ],
      "metadata": {
        "id": "uWJMosx44ZbO"
      }
    },
    {
      "cell_type": "code",
      "source": [
        "a = [10,20,30,40,50]\n",
        "a.count(10)"
      ],
      "metadata": {
        "id": "KXt5zcuS4akH",
        "colab": {
          "base_uri": "https://localhost:8080/"
        },
        "outputId": "d165d5a9-aa0f-4dc1-d9f5-816e5053ea0b"
      },
      "execution_count": 15,
      "outputs": [
        {
          "output_type": "execute_result",
          "data": {
            "text/plain": [
              "1"
            ]
          },
          "metadata": {},
          "execution_count": 15
        }
      ]
    },
    {
      "cell_type": "markdown",
      "source": [
        "30)Develop a code that prompts the user to input two sets of strings. Then, print the symmetric difference of\n",
        "these two sets"
      ],
      "metadata": {
        "id": "kX6_MxCG4fUQ"
      }
    },
    {
      "cell_type": "code",
      "source": [
        "a = [10,20,30,40]\n",
        "b = [30,40,50,60]\n",
        "set(a).symmetric_difference(set(b))"
      ],
      "metadata": {
        "id": "AzuJuXd94i9a",
        "colab": {
          "base_uri": "https://localhost:8080/"
        },
        "outputId": "0a32cc24-685e-4537-f223-11e50b5e6dcf"
      },
      "execution_count": 16,
      "outputs": [
        {
          "output_type": "execute_result",
          "data": {
            "text/plain": [
              "{10, 20, 50, 60}"
            ]
          },
          "metadata": {},
          "execution_count": 16
        }
      ]
    },
    {
      "cell_type": "markdown",
      "source": [
        " 31)Write a code that takes a list of words as input and returns a dictionary where the keys are unique words\n",
        "and the values are the frequencies of those words in the input lis"
      ],
      "metadata": {
        "id": "sgNsxBLF4mme"
      }
    },
    {
      "cell_type": "code",
      "source": [
        "a = [10,20,30]\n",
        "b = [30,40,50]\n",
        "dict(zip(a,b))"
      ],
      "metadata": {
        "id": "6gCiyrhp4nu4",
        "colab": {
          "base_uri": "https://localhost:8080/"
        },
        "outputId": "19dda2be-8c7f-4426-8748-7c60b89b5e34"
      },
      "execution_count": 17,
      "outputs": [
        {
          "output_type": "execute_result",
          "data": {
            "text/plain": [
              "{10: 30, 20: 40, 30: 50}"
            ]
          },
          "metadata": {},
          "execution_count": 17
        }
      ]
    },
    {
      "cell_type": "markdown",
      "source": [
        "32)Write a code that takes two dictionaries as input and merges them into a single dictionary. If there are\n",
        "common keys, the values should be added together"
      ],
      "metadata": {
        "id": "3y_47KLg4qV2"
      }
    },
    {
      "cell_type": "code",
      "source": [
        "a = {\"a\":10,\"b\":20}\n",
        "b = {\"c\":30,\"d\":40}\n",
        "a.update(b)\n",
        "a"
      ],
      "metadata": {
        "id": "guTZdffR4sPE",
        "colab": {
          "base_uri": "https://localhost:8080/"
        },
        "outputId": "5e73bb7e-aa54-4557-f726-6ece62acea7c"
      },
      "execution_count": 19,
      "outputs": [
        {
          "output_type": "execute_result",
          "data": {
            "text/plain": [
              "{'a': 10, 'b': 20, 'c': 30, 'd': 40}"
            ]
          },
          "metadata": {},
          "execution_count": 19
        }
      ]
    },
    {
      "cell_type": "markdown",
      "source": [
        "33)Write a code to access a value in a nested dictionary. The function should take the dictionary and a list of\n",
        "keys as input, and return the corresponding value. If any of the keys do not exist in the dictionary, the\n",
        "function should return None"
      ],
      "metadata": {
        "id": "dzjUiqfS4wTy"
      }
    },
    {
      "cell_type": "code",
      "source": [
        "a = {\"a\":10,\"b\":20}\n",
        "b = {\"c\":30,\"d\":40}\n",
        "dict(zip(a,b))"
      ],
      "metadata": {
        "id": "9dRFLAob4xe2",
        "colab": {
          "base_uri": "https://localhost:8080/"
        },
        "outputId": "e9979f18-c002-4430-baf9-0ec7c24e69cd"
      },
      "execution_count": 20,
      "outputs": [
        {
          "output_type": "execute_result",
          "data": {
            "text/plain": [
              "{'a': 'c', 'b': 'd'}"
            ]
          },
          "metadata": {},
          "execution_count": 20
        }
      ]
    },
    {
      "cell_type": "markdown",
      "source": [
        "34)Write a code that takes a dictionary as input and returns a sorted version of it based on the values. You\n",
        "can choose whether to sort in ascending or descending order"
      ],
      "metadata": {
        "id": "zZFS7c5W4z3s"
      }
    },
    {
      "cell_type": "code",
      "source": [
        "a = {\"a\":10,\"b\":20}\n",
        "sorted(a.values())"
      ],
      "metadata": {
        "id": "0GPEHuKI413R",
        "colab": {
          "base_uri": "https://localhost:8080/"
        },
        "outputId": "7af8d552-ab9c-46e7-e9fb-aa170a5b5f2c"
      },
      "execution_count": 21,
      "outputs": [
        {
          "output_type": "execute_result",
          "data": {
            "text/plain": [
              "[10, 20]"
            ]
          },
          "metadata": {},
          "execution_count": 21
        }
      ]
    },
    {
      "cell_type": "markdown",
      "source": [
        " 35)Write a code that inverts a dictionary, swapping keys and values. Ensure that the inverted dictionary\n",
        "correctly handles cases where multiple keys have the same value by storing the keys as a list in the\n",
        "inverted dictionary."
      ],
      "metadata": {
        "id": "hL4Y1KIA44NU"
      }
    },
    {
      "cell_type": "code",
      "source": [
        "a = {\"a\":10,\"b\":20}\n",
        "b = {\"c\":30,\"d\":40}\n",
        "dict(zip(a,b))"
      ],
      "metadata": {
        "id": "w6Ar28rY45rx",
        "colab": {
          "base_uri": "https://localhost:8080/"
        },
        "outputId": "c0449ab2-70d0-42b4-c792-02ff16099c43"
      },
      "execution_count": 22,
      "outputs": [
        {
          "output_type": "execute_result",
          "data": {
            "text/plain": [
              "{'a': 'c', 'b': 'd'}"
            ]
          },
          "metadata": {},
          "execution_count": 22
        }
      ]
    },
    {
      "cell_type": "code",
      "source": [],
      "metadata": {
        "id": "bcYrkwNbD2YP"
      },
      "execution_count": null,
      "outputs": []
    }
  ]
}